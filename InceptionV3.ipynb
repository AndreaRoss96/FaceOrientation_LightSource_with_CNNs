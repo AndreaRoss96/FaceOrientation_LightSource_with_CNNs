{
 "cells": [
  {
   "cell_type": "markdown",
   "metadata": {
    "id": "t3buCGALXBz0"
   },
   "source": [
    "# Imports"
   ]
  },
  {
   "cell_type": "code",
   "execution_count": 1,
   "metadata": {
    "colab": {
     "base_uri": "https://localhost:8080/"
    },
    "executionInfo": {
     "elapsed": 3314,
     "status": "ok",
     "timestamp": 1612651985061,
     "user": {
      "displayName": "Maniezzo Vittorio",
      "photoUrl": "https://lh3.googleusercontent.com/a-/AOh14Giqm5ggpMHZbFEsO6I8JLdOxxPOes47QwDRVNwn=s64",
      "userId": "10901058600466330130"
     },
     "user_tz": -60
    },
    "id": "_sKJZ8VMaIKN",
    "outputId": "a2d26bec-ba0b-4ea2-95d2-97094ed34d2c"
   },
   "outputs": [
    {
     "name": "stdout",
     "output_type": "stream",
     "text": [
      "Requirement already satisfied: adabound in c:\\users\\user\\anaconda3\\envs\\tensorflow-cpu\\lib\\site-packages (0.0.5)\n",
      "Requirement already satisfied: torch>=0.4.0 in c:\\users\\user\\anaconda3\\envs\\tensorflow-cpu\\lib\\site-packages (from adabound) (1.7.1)\n",
      "Requirement already satisfied: typing-extensions in c:\\users\\user\\anaconda3\\envs\\tensorflow-cpu\\lib\\site-packages (from torch>=0.4.0->adabound) (3.7.4.3)\n",
      "Requirement already satisfied: numpy in c:\\users\\user\\anaconda3\\envs\\tensorflow-cpu\\lib\\site-packages (from torch>=0.4.0->adabound) (1.19.5)\n"
     ]
    }
   ],
   "source": [
    "!pip install adabound"
   ]
  },
  {
   "cell_type": "code",
   "execution_count": 3,
   "metadata": {
    "executionInfo": {
     "elapsed": 4244,
     "status": "ok",
     "timestamp": 1612691671916,
     "user": {
      "displayName": "Maniezzo Vittorio",
      "photoUrl": "https://lh3.googleusercontent.com/a-/AOh14Giqm5ggpMHZbFEsO6I8JLdOxxPOes47QwDRVNwn=s64",
      "userId": "10901058600466330130"
     },
     "user_tz": -60
    },
    "id": "NmHGqBk0FLuI"
   },
   "outputs": [],
   "source": [
    "import tensorflow as tf\n",
    "from tensorflow.keras import datasets, layers, models\n",
    "import matplotlib.pyplot as plt\n",
    "from keras.preprocessing import image\n",
    "import pandas as pd\n",
    "import numpy as np\n",
    "import cv2\n",
    "import imageio\n",
    "from PIL import Image\n",
    "from sklearn.utils import class_weight\n",
    "import numpy as np\n",
    "from keras import layers, Input, utils\n",
    "from keras.models import Model"
   ]
  },
  {
   "cell_type": "markdown",
   "metadata": {
    "id": "NYMf9vGqW-cg"
   },
   "source": [
    "# Global variables\n"
   ]
  },
  {
   "cell_type": "code",
   "execution_count": 4,
   "metadata": {
    "executionInfo": {
     "elapsed": 4231,
     "status": "ok",
     "timestamp": 1612691671919,
     "user": {
      "displayName": "Maniezzo Vittorio",
      "photoUrl": "https://lh3.googleusercontent.com/a-/AOh14Giqm5ggpMHZbFEsO6I8JLdOxxPOes47QwDRVNwn=s64",
      "userId": "10901058600466330130"
     },
     "user_tz": -60
    },
    "id": "mjwuWKLQGlGk"
   },
   "outputs": [],
   "source": [
    "BATCH_SIZE = 128\n",
    "TOT_DATA = 11199\n",
    "EPOCHS = 30\n",
    "VALIDATION_SPLIT = 0.3\n",
    "directory = \"../Rub7/light\"\n",
    "tot_train = TOT_DATA*(1-VALIDATION_SPLIT)\n",
    "tot_val = TOT_DATA*VALIDATION_SPLIT\n",
    "img_dim = (128,128)\n"
   ]
  },
  {
   "cell_type": "markdown",
   "metadata": {
    "id": "IiMKCjA4Gv37"
   },
   "source": [
    "#Creating train and val set"
   ]
  },
  {
   "cell_type": "code",
   "execution_count": 5,
   "metadata": {
    "colab": {
     "base_uri": "https://localhost:8080/"
    },
    "executionInfo": {
     "elapsed": 6065,
     "status": "ok",
     "timestamp": 1612651987849,
     "user": {
      "displayName": "Maniezzo Vittorio",
      "photoUrl": "https://lh3.googleusercontent.com/a-/AOh14Giqm5ggpMHZbFEsO6I8JLdOxxPOes47QwDRVNwn=s64",
      "userId": "10901058600466330130"
     },
     "user_tz": -60
    },
    "id": "cnd7-4cFGoST",
    "outputId": "fab826d1-5e17-4c06-f3a4-f94d22533f2a"
   },
   "outputs": [
    {
     "name": "stdout",
     "output_type": "stream",
     "text": [
      "Found 9101 images belonging to 3 classes.\n",
      "Found 3899 images belonging to 3 classes.\n",
      "[0 0 0 ... 2 2 2]\n"
     ]
    }
   ],
   "source": [
    "image_generator = image.ImageDataGenerator(rescale = 1. /255, validation_split = VALIDATION_SPLIT, preprocessing_function = None )\n",
    "train_data = image_generator.flow_from_directory(batch_size=BATCH_SIZE, \n",
    "                                                 directory = directory, \n",
    "                                                 subset = \"training\", \n",
    "                                                 shuffle = True, \n",
    "                                                 target_size = (128,128), \n",
    "                                                 class_mode = \"categorical\")\n",
    "validation_data = image_generator.flow_from_directory(batch_size=BATCH_SIZE,\n",
    "                                                      directory = directory,\n",
    "                                                      subset = \"validation\",\n",
    "                                                      shuffle = True,\n",
    "                                                      target_size = (128,128),\n",
    "                                                      class_mode = \"categorical\")\n",
    "print(train_data.classes)"
   ]
  },
  {
   "cell_type": "markdown",
   "metadata": {
    "id": "LRKnIuNNHBHb"
   },
   "source": [
    "##Classes weights"
   ]
  },
  {
   "cell_type": "code",
   "execution_count": 6,
   "metadata": {
    "colab": {
     "base_uri": "https://localhost:8080/",
     "height": 232
    },
    "executionInfo": {
     "elapsed": 1435,
     "status": "error",
     "timestamp": 1612691673368,
     "user": {
      "displayName": "Maniezzo Vittorio",
      "photoUrl": "https://lh3.googleusercontent.com/a-/AOh14Giqm5ggpMHZbFEsO6I8JLdOxxPOes47QwDRVNwn=s64",
      "userId": "10901058600466330130"
     },
     "user_tz": -60
    },
    "id": "gx1pxWjBG7cS",
    "outputId": "8732babc-87e5-43df-ab6d-d51f177a1e5e"
   },
   "outputs": [
    {
     "name": "stdout",
     "output_type": "stream",
     "text": [
      "{0: 0.6466993533717047, 1: 1.3561317240351662, 2: 1.3960730173339468}\n"
     ]
    },
    {
     "name": "stderr",
     "output_type": "stream",
     "text": [
      "C:\\Users\\USER\\anaconda3\\envs\\tensorflow-cpu\\lib\\site-packages\\sklearn\\utils\\validation.py:72: FutureWarning: Pass classes=[0 1 2], y=[0 0 0 ... 2 2 2] as keyword args. From version 1.0 (renaming of 0.25) passing these as positional arguments will result in an error\n",
      "  \"will result in an error\", FutureWarning)\n"
     ]
    }
   ],
   "source": [
    "class_weights = class_weight.compute_class_weight(\n",
    "           'balanced',\n",
    "            np.unique(train_data.classes), \n",
    "            train_data.classes)\n",
    "weight = {i : class_weights[i] for i in range(3)}\n",
    "print(weight)"
   ]
  },
  {
   "cell_type": "markdown",
   "metadata": {
    "id": "T8P_yA40HfcF"
   },
   "source": [
    "#Model"
   ]
  },
  {
   "cell_type": "code",
   "execution_count": 7,
   "metadata": {
    "executionInfo": {
     "elapsed": 813,
     "status": "ok",
     "timestamp": 1612691890002,
     "user": {
      "displayName": "Maniezzo Vittorio",
      "photoUrl": "https://lh3.googleusercontent.com/a-/AOh14Giqm5ggpMHZbFEsO6I8JLdOxxPOes47QwDRVNwn=s64",
      "userId": "10901058600466330130"
     },
     "user_tz": -60
    },
    "id": "Z-phibkPe4Sx"
   },
   "outputs": [],
   "source": [
    "def classification_model(x, input_layer_dim):\n",
    "  dim = input_layer_dim\n",
    "  i = 0\n",
    "  while dim > 3:\n",
    "    x = layers.Dense(dim, activation=\"relu\")(x)\n",
    "    x = layers.Dropout(0.2)(x)\n",
    "    #if i%2 == 0:\n",
    "    #  x = layers.BatchNormalization()(x)\n",
    "    dim /= 4\n",
    "    i-=-1\n",
    "  return layers.Dense(3, activation=\"softmax\")(x)"
   ]
  },
  {
   "cell_type": "code",
   "execution_count": 8,
   "metadata": {
    "executionInfo": {
     "elapsed": 838,
     "status": "ok",
     "timestamp": 1612691886751,
     "user": {
      "displayName": "Maniezzo Vittorio",
      "photoUrl": "https://lh3.googleusercontent.com/a-/AOh14Giqm5ggpMHZbFEsO6I8JLdOxxPOes47QwDRVNwn=s64",
      "userId": "10901058600466330130"
     },
     "user_tz": -60
    },
    "id": "WMhj6IzVM7Mc"
   },
   "outputs": [],
   "source": [
    "#inception v3 --> https://keras.io/api/applications/inceptionv3/\n",
    "from keras.applications.inception_v3 import InceptionV3\n",
    "from keras.applications.inception_v3 import preprocess_input\n",
    "from keras.utils import plot_model"
   ]
  },
  {
   "cell_type": "code",
   "execution_count": 9,
   "metadata": {
    "colab": {
     "base_uri": "https://localhost:8080/"
    },
    "executionInfo": {
     "elapsed": 8731,
     "status": "ok",
     "timestamp": 1612651990551,
     "user": {
      "displayName": "Maniezzo Vittorio",
      "photoUrl": "https://lh3.googleusercontent.com/a-/AOh14Giqm5ggpMHZbFEsO6I8JLdOxxPOes47QwDRVNwn=s64",
      "userId": "10901058600466330130"
     },
     "user_tz": -60
    },
    "id": "CbDZcFUqNbGG",
    "outputId": "470350f0-4efc-4a93-f228-63996b664185"
   },
   "outputs": [
    {
     "name": "stdout",
     "output_type": "stream",
     "text": [
      "KerasTensor(type_spec=TensorSpec(shape=(None, 128, 128, 3), dtype=tf.float32, name='img'), name='img', description=\"created by layer 'img'\")\n"
     ]
    }
   ],
   "source": [
    "input_img_shape = Input(shape=(*img_dim, 3), name=\"img\")\n",
    "print(input_img_shape)\n",
    "\n",
    "inception_model = InceptionV3(input_shape = (128,128,3),\n",
    "                               include_top = False, # whether to include the fully-connected layer at the top, as the last layer of the network. Default to True.\n",
    "                               #weights = 'imagenet' #weights from imageNet (default)\n",
    "                               pooling = 'avg', # Optional pooling mode for feature extraction: None (default), avg, max\n",
    "                               #classes = 3 #optional number of classes to classify images into\n",
    "                               ) \n",
    "\n"
   ]
  },
  {
   "cell_type": "code",
   "execution_count": 10,
   "metadata": {
    "colab": {
     "base_uri": "https://localhost:8080/",
     "height": 1000
    },
    "executionInfo": {
     "elapsed": 12842,
     "status": "ok",
     "timestamp": 1612651994681,
     "user": {
      "displayName": "Maniezzo Vittorio",
      "photoUrl": "https://lh3.googleusercontent.com/a-/AOh14Giqm5ggpMHZbFEsO6I8JLdOxxPOes47QwDRVNwn=s64",
      "userId": "10901058600466330130"
     },
     "user_tz": -60
    },
    "id": "eEmIRISjekzF",
    "outputId": "0bdeb05f-d56f-45f5-c130-94fee408fa7d"
   },
   "outputs": [
    {
     "name": "stdout",
     "output_type": "stream",
     "text": [
      "('Failed to import pydot. You must `pip install pydot` and install graphviz (https://graphviz.gitlab.io/download/), ', 'for `pydotprint` to work.')\n"
     ]
    }
   ],
   "source": [
    "output_x = inception_model.output\n",
    "\n",
    "output_x = classification_model(output_x, output_x.shape[1])\n",
    "\n",
    "final_inception_model = Model(inputs = inception_model.input, outputs = output_x)\n",
    "\n",
    "plot_model(final_inception_model)"
   ]
  },
  {
   "cell_type": "code",
   "execution_count": 11,
   "metadata": {
    "colab": {
     "base_uri": "https://localhost:8080/"
    },
    "executionInfo": {
     "elapsed": 35380317,
     "status": "ok",
     "timestamp": 1612687362184,
     "user": {
      "displayName": "Maniezzo Vittorio",
      "photoUrl": "https://lh3.googleusercontent.com/a-/AOh14Giqm5ggpMHZbFEsO6I8JLdOxxPOes47QwDRVNwn=s64",
      "userId": "10901058600466330130"
     },
     "user_tz": -60
    },
    "id": "CxXidVAcYePp",
    "outputId": "cd199854-5767-4b18-afcc-b88ac8154b1d"
   },
   "outputs": [
    {
     "name": "stdout",
     "output_type": "stream",
     "text": [
      "Epoch 1/30\n",
      "61/61 [==============================] - 722s 12s/step - loss: 1.1269 - accuracy: 0.3040 - val_loss: 1.0985 - val_accuracy: 0.2413\n",
      "Epoch 2/30\n",
      "61/61 [==============================] - 693s 11s/step - loss: 1.0928 - accuracy: 0.2692 - val_loss: 1.0897 - val_accuracy: 0.2602\n",
      "Epoch 3/30\n",
      "61/61 [==============================] - 708s 12s/step - loss: 1.0467 - accuracy: 0.3335 - val_loss: 31.9462 - val_accuracy: 0.2623\n",
      "Epoch 4/30\n",
      "61/61 [==============================] - 680s 11s/step - loss: 0.7233 - accuracy: 0.6768 - val_loss: 7.0373 - val_accuracy: 0.6091\n",
      "Epoch 5/30\n",
      "61/61 [==============================] - 1042s 17s/step - loss: 0.5608 - accuracy: 0.7691 - val_loss: 44.9283 - val_accuracy: 0.4961\n",
      "Epoch 6/30\n",
      "61/61 [==============================] - 1366s 22s/step - loss: 0.5115 - accuracy: 0.8057 - val_loss: 1.3258 - val_accuracy: 0.8492\n",
      "Epoch 7/30\n",
      "61/61 [==============================] - 1333s 22s/step - loss: 0.5036 - accuracy: 0.7943 - val_loss: 0.9896 - val_accuracy: 0.7163\n",
      "Epoch 8/30\n",
      "61/61 [==============================] - 1364s 22s/step - loss: 0.4557 - accuracy: 0.8099 - val_loss: 0.6567 - val_accuracy: 0.8615\n",
      "Epoch 9/30\n",
      "61/61 [==============================] - 1327s 22s/step - loss: 0.4261 - accuracy: 0.8290 - val_loss: 0.6048 - val_accuracy: 0.7410\n",
      "Epoch 10/30\n",
      "61/61 [==============================] - 788s 13s/step - loss: 0.4479 - accuracy: 0.8138 - val_loss: 0.5422 - val_accuracy: 0.8386\n",
      "Epoch 11/30\n",
      "61/61 [==============================] - 686s 11s/step - loss: 0.4330 - accuracy: 0.8318 - val_loss: 3.4377 - val_accuracy: 0.5264\n",
      "Epoch 12/30\n",
      "61/61 [==============================] - 684s 11s/step - loss: 0.4459 - accuracy: 0.8114 - val_loss: 4.7737 - val_accuracy: 0.5718\n",
      "Epoch 13/30\n",
      "61/61 [==============================] - 683s 11s/step - loss: 0.3949 - accuracy: 0.8382 - val_loss: 0.7611 - val_accuracy: 0.8062\n",
      "Epoch 14/30\n",
      "61/61 [==============================] - 679s 11s/step - loss: 0.3566 - accuracy: 0.8519 - val_loss: 0.4853 - val_accuracy: 0.8329\n",
      "Epoch 15/30\n",
      "61/61 [==============================] - 679s 11s/step - loss: 0.3676 - accuracy: 0.8533 - val_loss: 0.4605 - val_accuracy: 0.8597\n",
      "Epoch 16/30\n",
      "61/61 [==============================] - 689s 11s/step - loss: 0.3616 - accuracy: 0.8575 - val_loss: 2.1497 - val_accuracy: 0.7572\n",
      "Epoch 17/30\n",
      "61/61 [==============================] - 686s 11s/step - loss: 0.3884 - accuracy: 0.8517 - val_loss: 7.0062 - val_accuracy: 0.4844\n",
      "Epoch 18/30\n",
      "61/61 [==============================] - 687s 11s/step - loss: 0.4353 - accuracy: 0.8241 - val_loss: 0.6818 - val_accuracy: 0.8477\n",
      "Epoch 19/30\n",
      "61/61 [==============================] - 688s 11s/step - loss: 0.3181 - accuracy: 0.8730 - val_loss: 0.8177 - val_accuracy: 0.8287\n",
      "Epoch 20/30\n",
      "61/61 [==============================] - 688s 11s/step - loss: 0.2608 - accuracy: 0.8910 - val_loss: 1.0655 - val_accuracy: 0.7665\n",
      "Epoch 21/30\n",
      "61/61 [==============================] - 708s 12s/step - loss: 0.3460 - accuracy: 0.8675 - val_loss: 0.3940 - val_accuracy: 0.8462\n",
      "Epoch 22/30\n",
      "61/61 [==============================] - 733s 12s/step - loss: 0.2889 - accuracy: 0.8782 - val_loss: 0.6617 - val_accuracy: 0.8383\n",
      "Epoch 23/30\n",
      "61/61 [==============================] - 681s 11s/step - loss: 0.2132 - accuracy: 0.9150 - val_loss: 0.4288 - val_accuracy: 0.8537\n",
      "Epoch 24/30\n",
      "61/61 [==============================] - 699s 11s/step - loss: 0.1717 - accuracy: 0.9381 - val_loss: 0.4482 - val_accuracy: 0.8642\n",
      "Epoch 25/30\n",
      "61/61 [==============================] - 682s 11s/step - loss: 0.2012 - accuracy: 0.9203 - val_loss: 0.5345 - val_accuracy: 0.8272\n",
      "Epoch 26/30\n",
      "61/61 [==============================] - 677s 11s/step - loss: 0.2522 - accuracy: 0.9110 - val_loss: 1.5996 - val_accuracy: 0.7957\n",
      "Epoch 27/30\n",
      "61/61 [==============================] - 686s 11s/step - loss: 0.1713 - accuracy: 0.9273 - val_loss: 0.9516 - val_accuracy: 0.8459\n",
      "Epoch 28/30\n",
      "61/61 [==============================] - 682s 11s/step - loss: 0.1534 - accuracy: 0.9336 - val_loss: 0.6667 - val_accuracy: 0.8882\n",
      "Epoch 29/30\n",
      "61/61 [==============================] - 680s 11s/step - loss: 0.1538 - accuracy: 0.9396 - val_loss: 3.5522 - val_accuracy: 0.6854\n",
      "Epoch 30/30\n",
      "61/61 [==============================] - 702s 12s/step - loss: 0.2083 - accuracy: 0.9212 - val_loss: 1.1027 - val_accuracy: 0.8230\n"
     ]
    }
   ],
   "source": [
    "from adabound import AdaBound # https://github.com/Luolc/AdaBound\n",
    "lr = 0.003\n",
    "\n",
    "final_inception_model.compile(optimizer = 'adam',#AdaBound(lr=lr),\n",
    "                        loss = tf.keras.losses.CategoricalCrossentropy(from_logits=True),\n",
    "                        metrics = ['accuracy'])\n",
    "\n",
    "history = final_inception_model.fit(train_data,\n",
    "                              epochs=EPOCHS,\n",
    "                              class_weight=weight, \n",
    "                              steps_per_epoch=tot_train // BATCH_SIZE,\n",
    "                              validation_data=validation_data,\n",
    "                              validation_steps=tot_val // BATCH_SIZE)"
   ]
  },
  {
   "cell_type": "code",
   "execution_count": 12,
   "metadata": {
    "colab": {
     "base_uri": "https://localhost:8080/",
     "height": 312
    },
    "executionInfo": {
     "elapsed": 35380719,
     "status": "ok",
     "timestamp": 1612687362595,
     "user": {
      "displayName": "Maniezzo Vittorio",
      "photoUrl": "https://lh3.googleusercontent.com/a-/AOh14Giqm5ggpMHZbFEsO6I8JLdOxxPOes47QwDRVNwn=s64",
      "userId": "10901058600466330130"
     },
     "user_tz": -60
    },
    "id": "o7Pur4KyhtLz",
    "outputId": "80df6631-100d-4219-f88b-ca2e637a9e0d"
   },
   "outputs": [
    {
     "data": {
      "text/plain": [
       "<matplotlib.legend.Legend at 0x216c67b69c8>"
      ]
     },
     "execution_count": 12,
     "metadata": {},
     "output_type": "execute_result"
    },
    {
     "data": {
      "image/png": "[encoded data removed]",
      "text/plain": [
       "<Figure size 432x288 with 1 Axes>"
      ]
     },
     "metadata": {
      "needs_background": "light"
     },
     "output_type": "display_data"
    }
   ],
   "source": [
    "plt.plot(history.history['accuracy'])  \n",
    "plt.plot(history.history['loss'])  \n",
    "plt.plot(history.history['val_accuracy'])  \n",
    "plt.plot(history.history['val_loss']) \n",
    "plt.hlines(1, 0, EPOCHS)\n",
    "plt.axis([0,EPOCHS-1, 0, 3]) \n",
    "plt.title('model accuracy')  \n",
    "plt.ylabel('accuracy')  \n",
    "plt.xlabel('epoch')  \n",
    "plt.legend(['accuracy', 'loss','val_accuracy', 'val_loss'], loc='best') "
   ]
  },
  {
   "cell_type": "markdown",
   "metadata": {
    "id": "_AwqibyuhvrM"
   },
   "source": [
    "## Save Model\n"
   ]
  },
  {
   "cell_type": "code",
   "execution_count": 13,
   "metadata": {
    "colab": {
     "base_uri": "https://localhost:8080/"
    },
    "executionInfo": {
     "elapsed": 35421657,
     "status": "ok",
     "timestamp": 1612687403539,
     "user": {
      "displayName": "Maniezzo Vittorio",
      "photoUrl": "https://lh3.googleusercontent.com/a-/AOh14Giqm5ggpMHZbFEsO6I8JLdOxxPOes47QwDRVNwn=s64",
      "userId": "10901058600466330130"
     },
     "user_tz": -60
    },
    "id": "CZSCHN1qhlBB",
    "outputId": "63a33226-76b8-4ea7-bbca-acc64ffe9bca"
   },
   "outputs": [
    {
     "name": "stdout",
     "output_type": "stream",
     "text": [
      "INFO:tensorflow:Assets written to: ../save/light/inception_model\\assets\n"
     ]
    }
   ],
   "source": [
    "import os\n",
    "\n",
    "save_path = \"../save/light/inception_model\"\n",
    "\n",
    "if not os.path.exists(save_path) :\n",
    "  os.makedirs(save_path)\n",
    "\n",
    "final_inception_model.save(save_path)"
   ]
  },
  {
   "cell_type": "markdown",
   "metadata": {
    "id": "tMgWeGkDe7wn"
   },
   "source": [
    "# Orientation\n"
   ]
  },
  {
   "cell_type": "code",
   "execution_count": 14,
   "metadata": {
    "executionInfo": {
     "elapsed": 1063,
     "status": "ok",
     "timestamp": 1612691902768,
     "user": {
      "displayName": "Maniezzo Vittorio",
      "photoUrl": "https://lh3.googleusercontent.com/a-/AOh14Giqm5ggpMHZbFEsO6I8JLdOxxPOes47QwDRVNwn=s64",
      "userId": "10901058600466330130"
     },
     "user_tz": -60
    },
    "id": "TRd1NRcKfKLS"
   },
   "outputs": [],
   "source": [
    "directory = \"../Rub7/orientation\""
   ]
  },
  {
   "cell_type": "code",
   "execution_count": 15,
   "metadata": {
    "colab": {
     "base_uri": "https://localhost:8080/"
    },
    "executionInfo": {
     "elapsed": 1069,
     "status": "ok",
     "timestamp": 1612691903717,
     "user": {
      "displayName": "Maniezzo Vittorio",
      "photoUrl": "https://lh3.googleusercontent.com/a-/AOh14Giqm5ggpMHZbFEsO6I8JLdOxxPOes47QwDRVNwn=s64",
      "userId": "10901058600466330130"
     },
     "user_tz": -60
    },
    "id": "CkDCJkqEfB0F",
    "outputId": "b67a6760-4c27-43e9-f27f-084a4779b843"
   },
   "outputs": [
    {
     "name": "stdout",
     "output_type": "stream",
     "text": [
      "Found 7841 images belonging to 3 classes.\n",
      "Found 3358 images belonging to 3 classes.\n",
      "[0 0 0 ... 2 2 2]\n"
     ]
    }
   ],
   "source": [
    "image_generator = image.ImageDataGenerator(rescale = 1. /255, validation_split = VALIDATION_SPLIT, preprocessing_function = None )\n",
    "train_data = image_generator.flow_from_directory(batch_size=BATCH_SIZE, \n",
    "                                                 directory = directory, \n",
    "                                                 subset = \"training\", \n",
    "                                                 shuffle = True, \n",
    "                                                 target_size = (128,128), \n",
    "                                                 class_mode = \"categorical\")\n",
    "validation_data = image_generator.flow_from_directory(batch_size=BATCH_SIZE,\n",
    "                                                      directory = directory,\n",
    "                                                      subset = \"validation\",\n",
    "                                                      shuffle = True,\n",
    "                                                      target_size = (128,128),\n",
    "                                                      class_mode = \"categorical\")\n",
    "print(train_data.classes)"
   ]
  },
  {
   "cell_type": "code",
   "execution_count": 16,
   "metadata": {
    "colab": {
     "base_uri": "https://localhost:8080/"
    },
    "executionInfo": {
     "elapsed": 508,
     "status": "ok",
     "timestamp": 1612691904719,
     "user": {
      "displayName": "Maniezzo Vittorio",
      "photoUrl": "https://lh3.googleusercontent.com/a-/AOh14Giqm5ggpMHZbFEsO6I8JLdOxxPOes47QwDRVNwn=s64",
      "userId": "10901058600466330130"
     },
     "user_tz": -60
    },
    "id": "9BjdtsgF6wVI",
    "outputId": "5f13fb5d-6960-40a9-970f-dd15c86326c0"
   },
   "outputs": [
    {
     "name": "stdout",
     "output_type": "stream",
     "text": [
      "{0: 0.5796555038072004, 1: 1.522228693457581, 2: 1.6183694530443757}\n"
     ]
    },
    {
     "name": "stderr",
     "output_type": "stream",
     "text": [
      "C:\\Users\\USER\\anaconda3\\envs\\tensorflow-cpu\\lib\\site-packages\\sklearn\\utils\\validation.py:72: FutureWarning: Pass classes=[0 1 2], y=[0 0 0 ... 2 2 2] as keyword args. From version 1.0 (renaming of 0.25) passing these as positional arguments will result in an error\n",
      "  \"will result in an error\", FutureWarning)\n"
     ]
    }
   ],
   "source": [
    "class_weights = class_weight.compute_class_weight(\n",
    "           'balanced',\n",
    "            np.unique(train_data.classes), \n",
    "            train_data.classes)\n",
    "weight = {i : class_weights[i] for i in range(3)}\n",
    "print(weight)"
   ]
  },
  {
   "cell_type": "code",
   "execution_count": 17,
   "metadata": {
    "colab": {
     "base_uri": "https://localhost:8080/"
    },
    "executionInfo": {
     "elapsed": 6905,
     "status": "ok",
     "timestamp": 1612691915442,
     "user": {
      "displayName": "Maniezzo Vittorio",
      "photoUrl": "https://lh3.googleusercontent.com/a-/AOh14Giqm5ggpMHZbFEsO6I8JLdOxxPOes47QwDRVNwn=s64",
      "userId": "10901058600466330130"
     },
     "user_tz": -60
    },
    "id": "fRy-XTLufgH3",
    "outputId": "17bcd1e8-2e17-40e8-a84e-2d1062dd6d7a"
   },
   "outputs": [],
   "source": [
    "inception_model = InceptionV3(input_shape = (128,128,3),\n",
    "                               include_top = False, # whether to include the fully-connected layer at the top, as the last layer of the network. Default to True.\n",
    "                               #weights = 'imagenet' #weights from imageNet (default)\n",
    "                               pooling = 'avg', # Optional pooling mode for feature extraction: None (default), avg, max\n",
    "                               #classes = 3 #optional number of classes to classify images into\n",
    "                               )\n",
    "\n",
    "output_x = inception_model.output\n",
    "\n",
    "output_x = classification_model(output_x, output_x.shape[1])\n",
    "\n",
    "final_inception_model = Model(inputs = inception_model.input, outputs = output_x)"
   ]
  },
  {
   "cell_type": "code",
   "execution_count": 18,
   "metadata": {
    "colab": {
     "base_uri": "https://localhost:8080/"
    },
    "id": "pjZpwHF5fpFC",
    "outputId": "a769da21-6937-4fb4-871e-3f7e6524d283"
   },
   "outputs": [
    {
     "name": "stdout",
     "output_type": "stream",
     "text": [
      "Epoch 1/30\n",
      "61/61 [==============================] - 770s 13s/step - loss: 0.8704 - accuracy: 0.4045 - val_loss: 46.2551 - val_accuracy: 0.2194\n",
      "Epoch 2/30\n",
      "61/61 [==============================] - 724s 12s/step - loss: 0.6053 - accuracy: 0.6556 - val_loss: 40.8990 - val_accuracy: 0.2332\n",
      "Epoch 3/30\n",
      "61/61 [==============================] - 718s 12s/step - loss: 0.4951 - accuracy: 0.7904 - val_loss: 2.6324 - val_accuracy: 0.5553\n",
      "Epoch 4/30\n",
      "61/61 [==============================] - 749s 12s/step - loss: 0.4276 - accuracy: 0.8471 - val_loss: 2.4758 - val_accuracy: 0.6965\n",
      "Epoch 5/30\n",
      "61/61 [==============================] - 735s 12s/step - loss: 0.3995 - accuracy: 0.8825 - val_loss: 433.5040 - val_accuracy: 0.6656\n",
      "Epoch 6/30\n",
      "61/61 [==============================] - 758s 12s/step - loss: 0.5375 - accuracy: 0.7604 - val_loss: 2.5637 - val_accuracy: 0.6508\n",
      "Epoch 7/30\n",
      "61/61 [==============================] - 749s 12s/step - loss: 0.4518 - accuracy: 0.8295 - val_loss: 1.8487 - val_accuracy: 0.3290\n",
      "Epoch 8/30\n",
      "61/61 [==============================] - 743s 12s/step - loss: 0.3968 - accuracy: 0.8176 - val_loss: 1.4232 - val_accuracy: 0.4898\n",
      "Epoch 9/30\n",
      "61/61 [==============================] - 780s 13s/step - loss: 0.3393 - accuracy: 0.8635 - val_loss: 0.8789 - val_accuracy: 0.7422\n",
      "Epoch 10/30\n",
      "61/61 [==============================] - 770s 13s/step - loss: 0.2959 - accuracy: 0.8911 - val_loss: 1.1235 - val_accuracy: 0.7407\n",
      "Epoch 11/30\n",
      "61/61 [==============================] - 760s 12s/step - loss: 0.2539 - accuracy: 0.9015 - val_loss: 0.9295 - val_accuracy: 0.7659\n",
      "Epoch 12/30\n",
      "61/61 [==============================] - 761s 12s/step - loss: 0.2641 - accuracy: 0.9036 - val_loss: 1.3481 - val_accuracy: 0.7064\n",
      "Epoch 13/30\n",
      "61/61 [==============================] - 696s 11s/step - loss: 0.2189 - accuracy: 0.9212 - val_loss: 0.9140 - val_accuracy: 0.8197\n",
      "Epoch 14/30\n",
      "61/61 [==============================] - 688s 11s/step - loss: 0.2255 - accuracy: 0.9120 - val_loss: 1.7266 - val_accuracy: 0.7906\n",
      "Epoch 15/30\n",
      "61/61 [==============================] - 688s 11s/step - loss: 0.1839 - accuracy: 0.9491 - val_loss: 1.2203 - val_accuracy: 0.7428\n",
      "Epoch 16/30\n",
      "61/61 [==============================] - 689s 11s/step - loss: 0.3001 - accuracy: 0.8819 - val_loss: 644.4216 - val_accuracy: 0.2575\n",
      "Epoch 17/30\n",
      "61/61 [==============================] - 690s 11s/step - loss: 0.2268 - accuracy: 0.9188 - val_loss: 0.6876 - val_accuracy: 0.8525\n",
      "Epoch 18/30\n",
      "61/61 [==============================] - 722s 12s/step - loss: 0.1564 - accuracy: 0.9467 - val_loss: 0.7407 - val_accuracy: 0.8576\n",
      "Epoch 19/30\n",
      "61/61 [==============================] - 693s 12s/step - loss: 0.1631 - accuracy: 0.9498 - val_loss: 1.2642 - val_accuracy: 0.8495\n",
      "Epoch 20/30\n",
      "61/61 [==============================] - 690s 11s/step - loss: 0.1558 - accuracy: 0.9518 - val_loss: 0.8568 - val_accuracy: 0.7800\n",
      "Epoch 21/30\n",
      "61/61 [==============================] - 688s 11s/step - loss: 0.1533 - accuracy: 0.9533 - val_loss: 2.0281 - val_accuracy: 0.8005\n",
      "Epoch 22/30\n",
      "61/61 [==============================] - 687s 11s/step - loss: 0.1237 - accuracy: 0.9632 - val_loss: 0.6912 - val_accuracy: 0.8546\n",
      "Epoch 23/30\n",
      "61/61 [==============================] - 686s 11s/step - loss: 0.1228 - accuracy: 0.9651 - val_loss: 2.7513 - val_accuracy: 0.7254\n",
      "Epoch 24/30\n",
      "61/61 [==============================] - 686s 11s/step - loss: 0.1282 - accuracy: 0.9571 - val_loss: 1.1513 - val_accuracy: 0.8188\n",
      "Epoch 25/30\n",
      "61/61 [==============================] - 685s 11s/step - loss: 0.0888 - accuracy: 0.9769 - val_loss: 1.5944 - val_accuracy: 0.8431\n",
      "Epoch 26/30\n",
      "61/61 [==============================] - 685s 11s/step - loss: 0.0768 - accuracy: 0.9821 - val_loss: 1.5332 - val_accuracy: 0.8014\n",
      "Epoch 27/30\n",
      "61/61 [==============================] - 686s 11s/step - loss: 0.1411 - accuracy: 0.9587 - val_loss: 1.2721 - val_accuracy: 0.8410\n",
      "Epoch 28/30\n",
      "61/61 [==============================] - 686s 11s/step - loss: 0.0676 - accuracy: 0.9831 - val_loss: 1.9042 - val_accuracy: 0.8645\n",
      "Epoch 29/30\n",
      "61/61 [==============================] - 685s 11s/step - loss: 0.0868 - accuracy: 0.9731 - val_loss: 1.9144 - val_accuracy: 0.8308\n",
      "Epoch 30/30\n",
      "61/61 [==============================] - 686s 11s/step - loss: 0.1492 - accuracy: 0.9493 - val_loss: 0.8759 - val_accuracy: 0.8269\n"
     ]
    }
   ],
   "source": [
    "final_inception_model.compile(optimizer = 'adam',#AdaBound(lr=lr),\n",
    "                        loss = tf.keras.losses.CategoricalCrossentropy(from_logits=True),\n",
    "                        metrics = ['accuracy'])\n",
    "\n",
    "history = final_inception_model.fit(train_data,\n",
    "                              epochs=EPOCHS,\n",
    "                              class_weight=weight, \n",
    "                              steps_per_epoch=tot_train // BATCH_SIZE,\n",
    "                              validation_data=validation_data,\n",
    "                              validation_steps=tot_val // BATCH_SIZE)"
   ]
  },
  {
   "cell_type": "code",
   "execution_count": 19,
   "metadata": {
    "id": "TMdaaQMQfsIi"
   },
   "outputs": [
    {
     "data": {
      "text/plain": [
       "<matplotlib.legend.Legend at 0x2171e40ae48>"
      ]
     },
     "execution_count": 19,
     "metadata": {},
     "output_type": "execute_result"
    },
    {
     "data": {
      "image/png": "[encoded data removed]",
      "text/plain": [
       "<Figure size 432x288 with 1 Axes>"
      ]
     },
     "metadata": {
      "needs_background": "light"
     },
     "output_type": "display_data"
    }
   ],
   "source": [
    "plt.plot(history.history['accuracy'])  \n",
    "plt.plot(history.history['loss'])  \n",
    "plt.plot(history.history['val_accuracy'])  \n",
    "plt.plot(history.history['val_loss']) \n",
    "plt.hlines(1, 0, EPOCHS)\n",
    "plt.axis([0,EPOCHS-1, 0, 3]) \n",
    "plt.title('model accuracy')  \n",
    "plt.ylabel('accuracy')  \n",
    "plt.xlabel('epoch')  \n",
    "plt.legend(['accuracy', 'loss','val_accuracy', 'val_loss'], loc='best')"
   ]
  },
  {
   "cell_type": "code",
   "execution_count": 23,
   "metadata": {
    "id": "f4gwZRlCgqx1"
   },
   "outputs": [
    {
     "name": "stdout",
     "output_type": "stream",
     "text": [
      "INFO:tensorflow:Assets written to: ../save/orientation/inception_model\\assets\n"
     ]
    }
   ],
   "source": [
    "import os\n",
    "\n",
    "save_path = \"../save/orientation/inception_model\"\n",
    "\n",
    "if not os.path.exists(save_path) :\n",
    "  os.makedirs(save_path)\n",
    "\n",
    "final_inception_model.save(save_path)"
   ]
  },
  {
   "cell_type": "code",
   "execution_count": 22,
   "metadata": {},
   "outputs": [
    {
     "name": "stdout",
     "output_type": "stream",
     "text": [
      "{0: 0.5796555038072004, 1: 1.522228693457581, 2: 1.6183694530443757}\n"
     ]
    }
   ],
   "source": [
    "print(weight)"
   ]
  }
 ],
 "metadata": {
  "colab": {
   "authorship_tag": "ABX9TyNgjUYUWDKDb5YMqNfIn29k",
   "collapsed_sections": [],
   "mount_file_id": "1y2EtAxlqZmp6swlBsVB8HZaEMtPSlET_",
   "name": "InceptionV3.ipynb",
   "provenance": []
  },
  "kernelspec": {
   "display_name": "Python 3",
   "language": "python",
   "name": "python3"
  },
  "language_info": {
   "codemirror_mode": {
    "name": "ipython",
    "version": 3
   },
   "file_extension": ".py",
   "mimetype": "text/x-python",
   "name": "python",
   "nbconvert_exporter": "python",
   "pygments_lexer": "ipython3",
   "version": "3.7.9"
  }
 },
 "nbformat": 4,
 "nbformat_minor": 1
}
