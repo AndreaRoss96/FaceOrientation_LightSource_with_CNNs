{
 "cells": [
  {
   "cell_type": "markdown",
   "metadata": {
    "id": "t3buCGALXBz0"
   },
   "source": [
    "# Imports"
   ]
  },
  {
   "cell_type": "code",
   "execution_count": null,
   "metadata": {
    "executionInfo": {
     "elapsed": 3353,
     "status": "ok",
     "timestamp": 1612696047304,
     "user": {
      "displayName": "Orazi Filippo",
      "photoUrl": "https://lh3.googleusercontent.com/a-/AOh14Giqm5ggpMHZbFEsO6I8JLdOxxPOes47QwDRVNwn=s64",
      "userId": "10901058600466330130"
     },
     "user_tz": -60
    },
    "id": "NmHGqBk0FLuI"
   },
   "outputs": [],
   "source": [
    "import tensorflow as tf\n",
    "from tensorflow.keras import datasets, layers, models\n",
    "import matplotlib.pyplot as plt\n",
    "from keras.preprocessing import image\n",
    "import pandas as pd\n",
    "import numpy as np\n",
    "import cv2\n",
    "import imageio\n",
    "from PIL import Image\n",
    "from sklearn.utils import class_weight\n",
    "import numpy as np\n",
    "from keras import layers, Input, utils\n",
    "from keras.models import Model"
   ]
  },
  {
   "cell_type": "markdown",
   "metadata": {
    "id": "NYMf9vGqW-cg"
   },
   "source": [
    "# Global variables\n"
   ]
  },
  {
   "cell_type": "code",
   "execution_count": null,
   "metadata": {
    "executionInfo": {
     "elapsed": 3347,
     "status": "ok",
     "timestamp": 1612696047305,
     "user": {
      "displayName": "Orazi Filippo",
      "photoUrl": "https://lh3.googleusercontent.com/a-/AOh14Giqm5ggpMHZbFEsO6I8JLdOxxPOes47QwDRVNwn=s64",
      "userId": "10901058600466330130"
     },
     "user_tz": -60
    },
    "id": "mjwuWKLQGlGk"
   },
   "outputs": [],
   "source": [
    "BATCH_SIZE = 128\n",
    "EPOCHS = 30\n",
    "VALIDATION_SPLIT = 0.3\n",
    "directory = \"\"\n",
    "img_dim = (128,128)\n"
   ]
  },
  {
   "cell_type": "markdown",
   "metadata": {
    "id": "IiMKCjA4Gv37"
   },
   "source": [
    "#Creating train and val set"
   ]
  },
  {
   "cell_type": "code",
   "execution_count": null,
   "metadata": {
    "colab": {
     "base_uri": "https://localhost:8080/"
    },
    "executionInfo": {
     "elapsed": 3826,
     "status": "ok",
     "timestamp": 1612696047809,
     "user": {
      "displayName": "Orazi Filippo",
      "photoUrl": "https://lh3.googleusercontent.com/a-/AOh14Giqm5ggpMHZbFEsO6I8JLdOxxPOes47QwDRVNwn=s64",
      "userId": "10901058600466330130"
     },
     "user_tz": -60
    },
    "id": "cnd7-4cFGoST",
    "outputId": "0f6e5f4a-cc96-4d6d-ac30-6c3ddee96ee1"
   },
   "outputs": [],
   "source": [
    "image_generator = image.ImageDataGenerator(rescale = 1. /255, validation_split = VALIDATION_SPLIT, preprocessing_function = None )\n",
    "train_data = image_generator.flow_from_directory(batch_size=BATCH_SIZE, \n",
    "                                                 directory = directory, \n",
    "                                                 subset = \"training\", \n",
    "                                                 shuffle = True, \n",
    "                                                 target_size = (128,128), \n",
    "                                                 class_mode = \"categorical\")\n",
    "validation_data = image_generator.flow_from_directory(batch_size=BATCH_SIZE,\n",
    "                                                      directory = directory,\n",
    "                                                      subset = \"validation\",\n",
    "                                                      shuffle = True,\n",
    "                                                      target_size = (128,128),\n",
    "                                                      class_mode = \"categorical\")\n",
    "tot_train = len(train_data.classes)\n",
    "tot_val = len(validation_data.classes)\n",
    "\n",
    "print(train_data.classes)"
   ]
  },
  {
   "cell_type": "markdown",
   "metadata": {
    "id": "LRKnIuNNHBHb"
   },
   "source": [
    "##Classes weights"
   ]
  },
  {
   "cell_type": "code",
   "execution_count": null,
   "metadata": {
    "colab": {
     "base_uri": "https://localhost:8080/"
    },
    "executionInfo": {
     "elapsed": 4034,
     "status": "ok",
     "timestamp": 1612696048025,
     "user": {
      "displayName": "Orazi Filippo",
      "photoUrl": "https://lh3.googleusercontent.com/a-/AOh14Giqm5ggpMHZbFEsO6I8JLdOxxPOes47QwDRVNwn=s64",
      "userId": "10901058600466330130"
     },
     "user_tz": -60
    },
    "id": "gx1pxWjBG7cS",
    "outputId": "0b9b0541-15a2-4480-aaa3-8684698cab2e"
   },
   "outputs": [],
   "source": [
    "class_weights = class_weight.compute_class_weight(\n",
    "           'balanced',\n",
    "            np.unique(train_data.classes), \n",
    "            train_data.classes)\n",
    "weight = {i : class_weights[i] for i in range(3)}\n",
    "print(weight)"
   ]
  },
  {
   "cell_type": "markdown",
   "metadata": {
    "id": "T8P_yA40HfcF"
   },
   "source": [
    "#Model"
   ]
  },
  {
   "cell_type": "code",
   "execution_count": null,
   "metadata": {
    "executionInfo": {
     "elapsed": 5087,
     "status": "ok",
     "timestamp": 1612696049084,
     "user": {
      "displayName": "Orazi Filippo",
      "photoUrl": "https://lh3.googleusercontent.com/a-/AOh14Giqm5ggpMHZbFEsO6I8JLdOxxPOes47QwDRVNwn=s64",
      "userId": "10901058600466330130"
     },
     "user_tz": -60
    },
    "id": "hFEy3btOy29v"
   },
   "outputs": [],
   "source": [
    "# taken from https://iq.opengenus.org/vgg19-architecture/\n",
    "from keras import backend as K\n",
    "#K.set_image_data_format('th')\n",
    "\n",
    "tot_train = TOT_DATA*(1-VALIDATION_SPLIT)\n",
    "tot_val = TOT_DATA*VALIDATION_SPLIT\n",
    "\n",
    "model = models.Sequential([\n",
    "                           layers.Conv2D(64, (3, 3), activation='relu', input_shape=(128, 128, 3)),\n",
    "                           layers.Conv2D(64, (3, 3), activation='relu'),\n",
    "                           layers.MaxPooling2D((2, 2)),\n",
    "\n",
    "                           layers.Conv2D(128, (3, 3), activation='relu'),\n",
    "                           layers.Conv2D(128, (3, 3), activation='relu'),\n",
    "                           layers.MaxPooling2D((2, 2)),         \n",
    "\n",
    "                           layers.Conv2D(256, (3, 3), activation='relu'),\n",
    "                           #layers.Conv2D(256, (3, 3), activation='relu'),\n",
    "                           #layers.Conv2D(256, (3, 3), activation='relu'),\n",
    "                           layers.Conv2D(256, (3, 3), activation='relu'),\n",
    "                           layers.MaxPooling2D((2, 2)),\n",
    "\n",
    "                           layers.Conv2D(512, (3, 3), activation='relu'),\n",
    "                           #layers.Conv2D(512, (3, 3), activation='relu'),\n",
    "                           #layers.Conv2D(521, (3, 3), activation='relu'),\n",
    "                           layers.Conv2D(512, (3, 3), activation='relu'),\n",
    "                           layers.MaxPooling2D((2, 2)),\n",
    "                           \n",
    "                           layers.Flatten(),\n",
    "                           layers.Dense(4096, activation='relu'),\n",
    "                           layers.Dropout(0.4),\n",
    "                           layers.Dense(4096, activation='relu'),\n",
    "                           layers.Dropout(0.4),\n",
    "                           layers.Dense(3, activation='softmax')\n",
    "])\n",
    "\n",
    "model.compile(optimizer='adam',\n",
    "              loss=tf.keras.losses.CategoricalCrossentropy(from_logits=True),\n",
    "              metrics=['accuracy'])"
   ]
  },
  {
   "cell_type": "code",
   "execution_count": null,
   "metadata": {
    "colab": {
     "base_uri": "https://localhost:8080/",
     "height": 1000
    },
    "executionInfo": {
     "elapsed": 5594,
     "status": "ok",
     "timestamp": 1612696049597,
     "user": {
      "displayName": "Orazi Filippo",
      "photoUrl": "https://lh3.googleusercontent.com/a-/AOh14Giqm5ggpMHZbFEsO6I8JLdOxxPOes47QwDRVNwn=s64",
      "userId": "10901058600466330130"
     },
     "user_tz": -60
    },
    "id": "yszgXIvA5CnU",
    "outputId": "3b340d68-7bf6-4e0b-f633-43ef379856e6"
   },
   "outputs": [],
   "source": [
    "from keras.utils import plot_model\n",
    "plot_model(model)"
   ]
  },
  {
   "cell_type": "code",
   "execution_count": null,
   "metadata": {
    "colab": {
     "base_uri": "https://localhost:8080/"
    },
    "id": "3W3lhyX52Gj0",
    "outputId": "271584da-bd5e-4dea-a3c7-f14c8395eaf7",
    "scrolled": true
   },
   "outputs": [],
   "source": [
    "history = model.fit(train_data, \n",
    "                    epochs=EPOCHS, \n",
    "                    class_weight=weight,\n",
    "                    steps_per_epoch=int(np.ceil(tot_train / BATCH_SIZE)), \n",
    "                    validation_data=validation_data, \n",
    "                    validation_steps=int(np.ceil(tot_val / float(BATCH_SIZE)))) #10 epochs instead of 20\n"
   ]
  },
  {
   "cell_type": "code",
   "execution_count": null,
   "metadata": {
    "id": "o7Pur4KyhtLz"
   },
   "outputs": [],
   "source": [
    "plt.plot(history.history['accuracy'])  \n",
    "plt.plot(history.history['loss'])  \n",
    "plt.plot(history.history['val_accuracy'])  \n",
    "plt.plot(history.history['val_loss']) \n",
    "plt.hlines(1, 0, EPOCHS)\n",
    "plt.axis([0,EPOCHS-1, 0, 3]) \n",
    "plt.title('model accuracy')  \n",
    "plt.ylabel('accuracy')  \n",
    "plt.xlabel('epoch')  \n",
    "plt.legend(['accuracy', 'loss','val_accuracy', 'val_loss'], loc='best') "
   ]
  },
  {
   "cell_type": "markdown",
   "metadata": {
    "id": "_AwqibyuhvrM"
   },
   "source": [
    "## Save Model\n"
   ]
  },
  {
   "cell_type": "code",
   "execution_count": 12,
   "metadata": {
    "id": "CZSCHN1qhlBB"
   },
   "outputs": [
    {
     "name": "stdout",
     "output_type": "stream",
     "text": [
      "INFO:tensorflow:Assets written to: ../light/vgg19\\assets\n"
     ]
    }
   ],
   "source": [
    "import os\n",
    "\n",
    "save_path = \"\"\n",
    "\n",
    "if not os.path.exists(save_path) :\n",
    "  os.makedirs(save_path)\n",
    "\n",
    "model.save(save_path)"
   ]
  },
  {
   "cell_type": "markdown",
   "metadata": {
    "id": "dC7HKFuMif4q"
   },
   "source": [
    "# Orientation"
   ]
  },
  {
   "cell_type": "code",
   "execution_count": 13,
   "metadata": {
    "id": "-Ui5Cxbjifop"
   },
   "outputs": [],
   "source": [
    "directory = \"\""
   ]
  },
  {
   "cell_type": "code",
   "execution_count": 19,
   "metadata": {},
   "outputs": [],
   "source": [
    "callback = tf.keras.callbacks.EarlyStopping(monitor='val_accuracy', patience=3)"
   ]
  },
  {
   "cell_type": "code",
   "execution_count": 20,
   "metadata": {
    "id": "bpXXyteEK_l3"
   },
   "outputs": [
    {
     "name": "stdout",
     "output_type": "stream",
     "text": [
      "Found 7841 images belonging to 3 classes.\n",
      "Found 3358 images belonging to 3 classes.\n",
      "[0 0 0 ... 2 2 2]\n",
      "{0: 0.5796555038072004, 1: 1.522228693457581, 2: 1.6183694530443757}\n"
     ]
    }
   ],
   "source": [
    "image_generator = image.ImageDataGenerator(rescale = 1. /255, validation_split = VALIDATION_SPLIT, preprocessing_function = None )\n",
    "train_data = image_generator.flow_from_directory(batch_size=BATCH_SIZE, \n",
    "                                                 directory = directory, \n",
    "                                                 subset = \"training\", \n",
    "                                                 shuffle = True, \n",
    "                                                 target_size = (128,128), \n",
    "                                                 class_mode = \"categorical\")\n",
    "validation_data = image_generator.flow_from_directory(batch_size=BATCH_SIZE,\n",
    "                                                      directory = directory,\n",
    "                                                      subset = \"validation\",\n",
    "                                                      shuffle = True,\n",
    "                                                      target_size = (128,128),\n",
    "                                                      class_mode = \"categorical\")\n",
    "print(train_data.classes)\n",
    "\n",
    "class_weights = class_weight.compute_class_weight(\n",
    "           'balanced',\n",
    "            np.unique(train_data.classes), \n",
    "            train_data.classes)\n",
    "weight = {i : class_weights[i] for i in range(3)}\n",
    "print(weight)"
   ]
  },
  {
   "cell_type": "code",
   "execution_count": 21,
   "metadata": {
    "id": "3NBBszW2ij6K"
   },
   "outputs": [],
   "source": [
    "model = models.Sequential([\n",
    "                           layers.Conv2D(64, (3, 3), activation='relu', input_shape=(128, 128, 3)),\n",
    "                           layers.Conv2D(64, (3, 3), activation='relu'),\n",
    "                           layers.MaxPooling2D((2, 2)),\n",
    "\n",
    "                           layers.Conv2D(128, (3, 3), activation='relu'),\n",
    "                           layers.Conv2D(128, (3, 3), activation='relu'),\n",
    "                           layers.MaxPooling2D((2, 2)),         \n",
    "\n",
    "                           layers.Conv2D(256, (3, 3), activation='relu'),\n",
    "                          #  layers.Conv2D(256, (3, 3), activation='relu'),\n",
    "                          #  layers.Conv2D(256, (3, 3), activation='relu'),\n",
    "                           layers.Conv2D(256, (3, 3), activation='relu'),\n",
    "                           layers.MaxPooling2D((2, 2)),\n",
    "\n",
    "                           layers.Conv2D(512, (3, 3), activation='relu'),\n",
    "                          #  layers.Conv2D(512, (3, 3), activation='relu'),\n",
    "                          #  layers.Conv2D(521, (3, 3), activation='relu'),\n",
    "                           layers.Conv2D(521, (3, 3), activation='relu'),\n",
    "                           layers.MaxPooling2D((2, 2)),\n",
    "                           \n",
    "                           layers.Flatten(),\n",
    "                           layers.Dense(4096, activation='relu'),\n",
    "                           layers.Dropout(0.4),\n",
    "                           layers.Dense(4096, activation='relu'),\n",
    "                           layers.Dropout(0.4),\n",
    "                           layers.Dense(3, activation='softmax')\n",
    "])\n",
    "\n",
    "model.compile(optimizer='adam',\n",
    "              loss=tf.keras.losses.CategoricalCrossentropy(from_logits=True),\n",
    "              metrics=['accuracy'])"
   ]
  },
  {
   "cell_type": "code",
   "execution_count": 22,
   "metadata": {
    "id": "9L-R4ubBiqdB"
   },
   "outputs": [
    {
     "name": "stdout",
     "output_type": "stream",
     "text": [
      "Epoch 1/30\n",
      "62/62 [==============================] - 1362s 22s/step - loss: 1.1136 - accuracy: 0.3154 - val_loss: 1.1067 - val_accuracy: 0.2058\n",
      "Epoch 2/30\n",
      "62/62 [==============================] - 1370s 22s/step - loss: 1.0923 - accuracy: 0.3438 - val_loss: 1.0983 - val_accuracy: 0.2058\n",
      "Epoch 3/30\n",
      "62/62 [==============================] - 1351s 22s/step - loss: 1.0978 - accuracy: 0.3345 - val_loss: 1.0986 - val_accuracy: 0.2189\n",
      "Epoch 4/30\n",
      "62/62 [==============================] - 1351s 22s/step - loss: 1.0994 - accuracy: 0.3143 - val_loss: 1.0965 - val_accuracy: 0.5753\n",
      "Epoch 5/30\n",
      "62/62 [==============================] - 1353s 22s/step - loss: 1.0941 - accuracy: 0.4912 - val_loss: 1.1016 - val_accuracy: 0.2189\n",
      "Epoch 6/30\n",
      "62/62 [==============================] - 1351s 22s/step - loss: 1.0996 - accuracy: 0.2151 - val_loss: 1.0983 - val_accuracy: 0.2058\n",
      "Epoch 7/30\n",
      "62/62 [==============================] - 1354s 22s/step - loss: 1.0990 - accuracy: 0.2574 - val_loss: 1.1003 - val_accuracy: 0.2189\n"
     ]
    }
   ],
   "source": [
    "history = model.fit(train_data,\n",
    "                    epochs=EPOCHS,\n",
    "                    class_weight=weight,\n",
    "                    callbacks=[callback],\n",
    "                    steps_per_epoch=int(np.ceil(tot_train / BATCH_SIZE)), \n",
    "                    validation_data=validation_data,\n",
    "                    validation_steps=int(np.ceil(tot_val / float(BATCH_SIZE)))) #10 epochs instead of 20\n"
   ]
  },
  {
   "cell_type": "code",
   "execution_count": 18,
   "metadata": {
    "id": "rKk0J0SCiwNU"
   },
   "outputs": [
    {
     "data": {
      "text/plain": [
       "<matplotlib.legend.Legend at 0x1c809a22a48>"
      ]
     },
     "execution_count": 18,
     "metadata": {},
     "output_type": "execute_result"
    },
    {
     "data": {
      "image/png": "[encoded data removed]",
      "text/plain": [
       "<Figure size 432x288 with 1 Axes>"
      ]
     },
     "metadata": {
      "needs_background": "light"
     },
     "output_type": "display_data"
    }
   ],
   "source": [
    "plt.plot(history.history['accuracy'])  \n",
    "plt.plot(history.history['loss'])  \n",
    "plt.plot(history.history['val_accuracy'])  \n",
    "plt.plot(history.history['val_loss']) \n",
    "plt.hlines(1, 0, EPOCHS)\n",
    "plt.axis([0,EPOCHS-1, 0, 3]) \n",
    "plt.title('model accuracy')  \n",
    "plt.ylabel('accuracy')  \n",
    "plt.xlabel('epoch')  \n",
    "plt.legend(['accuracy', 'loss','val_accuracy', 'val_loss'], loc='best')"
   ]
  },
  {
   "cell_type": "code",
   "execution_count": 24,
   "metadata": {
    "id": "9o1D8MUXiyAn"
   },
   "outputs": [
    {
     "name": "stdout",
     "output_type": "stream",
     "text": [
      "INFO:tensorflow:Assets written to: ../orientation/vgg19\\assets\n"
     ]
    }
   ],
   "source": [
    "import os\n",
    "\n",
    "save_path = \"\"\n",
    "\n",
    "if not os.path.exists(save_path) :\n",
    "  os.makedirs(save_path)\n",
    "\n",
    "model.save(save_path)"
   ]
  },
  {
   "cell_type": "code",
   "execution_count": null,
   "metadata": {},
   "outputs": [],
   "source": []
  }
 ],
 "metadata": {
  "colab": {
   "authorship_tag": "ABX9TyNu9E6EzSO1yJUHCniCba6r",
   "collapsed_sections": [],
   "mount_file_id": "17PBPhoDTEyIcxmz3iw18dWLjo-iyNuXR",
   "name": "VGG19_fromScratch.ipynb",
   "provenance": []
  },
  "kernelspec": {
   "display_name": "Python 3",
   "language": "python",
   "name": "python3"
  },
  "language_info": {
   "codemirror_mode": {
    "name": "ipython",
    "version": 3
   },
   "file_extension": ".py",
   "mimetype": "text/x-python",
   "name": "python",
   "nbconvert_exporter": "python",
   "pygments_lexer": "ipython3",
   "version": "3.6.0"
  }
 },
 "nbformat": 4,
 "nbformat_minor": 1
}
