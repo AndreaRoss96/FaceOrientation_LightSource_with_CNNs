{
 "cells": [
  {
   "cell_type": "markdown",
   "metadata": {
    "id": "t3buCGALXBz0"
   },
   "source": [
    "# Imports"
   ]
  },
  {
   "cell_type": "code",
   "execution_count": 1,
   "metadata": {
    "colab": {
     "base_uri": "https://localhost:8080/"
    },
    "executionInfo": {
     "elapsed": 3364,
     "status": "ok",
     "timestamp": 1612696047302,
     "user": {
      "displayName": "Maniezzo Vittorio",
      "photoUrl": "https://lh3.googleusercontent.com/a-/AOh14Giqm5ggpMHZbFEsO6I8JLdOxxPOes47QwDRVNwn=s64",
      "userId": "10901058600466330130"
     },
     "user_tz": -60
    },
    "id": "_sKJZ8VMaIKN",
    "outputId": "99c2a09b-c266-4127-9a30-1b6cab0e6d4f"
   },
   "outputs": [
    {
     "name": "stdout",
     "output_type": "stream",
     "text": [
      "Requirement already satisfied: adabound in c:\\users\\user\\anaconda3\\envs\\tensorflow-cpu\\lib\\site-packages (0.0.5)\n",
      "Requirement already satisfied: torch>=0.4.0 in c:\\users\\user\\anaconda3\\envs\\tensorflow-cpu\\lib\\site-packages (from adabound) (1.7.1)\n",
      "Requirement already satisfied: numpy in c:\\users\\user\\anaconda3\\envs\\tensorflow-cpu\\lib\\site-packages (from torch>=0.4.0->adabound) (1.19.5)\n",
      "Requirement already satisfied: typing-extensions in c:\\users\\user\\anaconda3\\envs\\tensorflow-cpu\\lib\\site-packages (from torch>=0.4.0->adabound) (3.7.4.3)\n"
     ]
    }
   ],
   "source": [
    "!pip install adabound"
   ]
  },
  {
   "cell_type": "code",
   "execution_count": 2,
   "metadata": {
    "executionInfo": {
     "elapsed": 3353,
     "status": "ok",
     "timestamp": 1612696047304,
     "user": {
      "displayName": "Maniezzo Vittorio",
      "photoUrl": "https://lh3.googleusercontent.com/a-/AOh14Giqm5ggpMHZbFEsO6I8JLdOxxPOes47QwDRVNwn=s64",
      "userId": "10901058600466330130"
     },
     "user_tz": -60
    },
    "id": "NmHGqBk0FLuI"
   },
   "outputs": [],
   "source": [
    "import tensorflow as tf\n",
    "from tensorflow.keras import datasets, layers, models\n",
    "import matplotlib.pyplot as plt\n",
    "from keras.preprocessing import image\n",
    "import pandas as pd\n",
    "import numpy as np\n",
    "import cv2\n",
    "import imageio\n",
    "from PIL import Image\n",
    "from sklearn.utils import class_weight\n",
    "import numpy as np\n",
    "from keras import layers, Input, utils\n",
    "from keras.models import Model"
   ]
  },
  {
   "cell_type": "markdown",
   "metadata": {
    "id": "NYMf9vGqW-cg"
   },
   "source": [
    "# Global variables\n"
   ]
  },
  {
   "cell_type": "code",
   "execution_count": 3,
   "metadata": {
    "executionInfo": {
     "elapsed": 3347,
     "status": "ok",
     "timestamp": 1612696047305,
     "user": {
      "displayName": "Maniezzo Vittorio",
      "photoUrl": "https://lh3.googleusercontent.com/a-/AOh14Giqm5ggpMHZbFEsO6I8JLdOxxPOes47QwDRVNwn=s64",
      "userId": "10901058600466330130"
     },
     "user_tz": -60
    },
    "id": "mjwuWKLQGlGk"
   },
   "outputs": [],
   "source": [
    "BATCH_SIZE = 128\n",
    "TOT_DATA = 11199\n",
    "EPOCHS = 30\n",
    "VALIDATION_SPLIT = 0.3\n",
    "directory = \"../Rub7/light\"\n",
    "tot_train = TOT_DATA*(1-VALIDATION_SPLIT)\n",
    "tot_val = TOT_DATA*VALIDATION_SPLIT\n",
    "img_dim = (128,128)\n"
   ]
  },
  {
   "cell_type": "markdown",
   "metadata": {
    "id": "IiMKCjA4Gv37"
   },
   "source": [
    "#Creating train and val set"
   ]
  },
  {
   "cell_type": "code",
   "execution_count": 4,
   "metadata": {
    "colab": {
     "base_uri": "https://localhost:8080/"
    },
    "executionInfo": {
     "elapsed": 3826,
     "status": "ok",
     "timestamp": 1612696047809,
     "user": {
      "displayName": "Maniezzo Vittorio",
      "photoUrl": "https://lh3.googleusercontent.com/a-/AOh14Giqm5ggpMHZbFEsO6I8JLdOxxPOes47QwDRVNwn=s64",
      "userId": "10901058600466330130"
     },
     "user_tz": -60
    },
    "id": "cnd7-4cFGoST",
    "outputId": "0f6e5f4a-cc96-4d6d-ac30-6c3ddee96ee1"
   },
   "outputs": [
    {
     "name": "stdout",
     "output_type": "stream",
     "text": [
      "Found 9101 images belonging to 3 classes.\n",
      "Found 3899 images belonging to 3 classes.\n",
      "[0 0 0 ... 2 2 2]\n"
     ]
    }
   ],
   "source": [
    "image_generator = image.ImageDataGenerator(rescale = 1. /255, validation_split = VALIDATION_SPLIT, preprocessing_function = None )\n",
    "train_data = image_generator.flow_from_directory(batch_size=BATCH_SIZE, \n",
    "                                                 directory = directory, \n",
    "                                                 subset = \"training\", \n",
    "                                                 shuffle = True, \n",
    "                                                 target_size = (128,128), \n",
    "                                                 class_mode = \"categorical\")\n",
    "validation_data = image_generator.flow_from_directory(batch_size=BATCH_SIZE,\n",
    "                                                      directory = directory,\n",
    "                                                      subset = \"validation\",\n",
    "                                                      shuffle = True,\n",
    "                                                      target_size = (128,128),\n",
    "                                                      class_mode = \"categorical\")\n",
    "print(train_data.classes)"
   ]
  },
  {
   "cell_type": "markdown",
   "metadata": {
    "id": "LRKnIuNNHBHb"
   },
   "source": [
    "##Classes weights"
   ]
  },
  {
   "cell_type": "code",
   "execution_count": 5,
   "metadata": {
    "colab": {
     "base_uri": "https://localhost:8080/"
    },
    "executionInfo": {
     "elapsed": 4034,
     "status": "ok",
     "timestamp": 1612696048025,
     "user": {
      "displayName": "Maniezzo Vittorio",
      "photoUrl": "https://lh3.googleusercontent.com/a-/AOh14Giqm5ggpMHZbFEsO6I8JLdOxxPOes47QwDRVNwn=s64",
      "userId": "10901058600466330130"
     },
     "user_tz": -60
    },
    "id": "gx1pxWjBG7cS",
    "outputId": "0b9b0541-15a2-4480-aaa3-8684698cab2e"
   },
   "outputs": [
    {
     "name": "stdout",
     "output_type": "stream",
     "text": [
      "{0: 0.6466993533717047, 1: 1.3561317240351662, 2: 1.3960730173339468}\n"
     ]
    },
    {
     "name": "stderr",
     "output_type": "stream",
     "text": [
      "C:\\Users\\USER\\anaconda3\\envs\\tensorflow-cpu\\lib\\site-packages\\sklearn\\utils\\validation.py:72: FutureWarning: Pass classes=[0 1 2], y=[0 0 0 ... 2 2 2] as keyword args. From version 1.0 (renaming of 0.25) passing these as positional arguments will result in an error\n",
      "  \"will result in an error\", FutureWarning)\n"
     ]
    }
   ],
   "source": [
    "class_weights = class_weight.compute_class_weight(\n",
    "           'balanced',\n",
    "            np.unique(train_data.classes), \n",
    "            train_data.classes)\n",
    "weight = {i : class_weights[i] for i in range(3)}\n",
    "print(weight)"
   ]
  },
  {
   "cell_type": "markdown",
   "metadata": {
    "id": "T8P_yA40HfcF"
   },
   "source": [
    "#Model"
   ]
  },
  {
   "cell_type": "code",
   "execution_count": 6,
   "metadata": {
    "executionInfo": {
     "elapsed": 5087,
     "status": "ok",
     "timestamp": 1612696049084,
     "user": {
      "displayName": "Maniezzo Vittorio",
      "photoUrl": "https://lh3.googleusercontent.com/a-/AOh14Giqm5ggpMHZbFEsO6I8JLdOxxPOes47QwDRVNwn=s64",
      "userId": "10901058600466330130"
     },
     "user_tz": -60
    },
    "id": "hFEy3btOy29v"
   },
   "outputs": [],
   "source": [
    "# taken from https://iq.opengenus.org/vgg19-architecture/\n",
    "from keras import backend as K\n",
    "#K.set_image_data_format('th')\n",
    "\n",
    "tot_train = TOT_DATA*(1-VALIDATION_SPLIT)\n",
    "tot_val = TOT_DATA*VALIDATION_SPLIT\n",
    "\n",
    "model = models.Sequential([\n",
    "                           layers.Conv2D(64, (3, 3), activation='relu', input_shape=(128, 128, 3)),\n",
    "                           layers.Conv2D(64, (3, 3), activation='relu'),\n",
    "                           layers.MaxPooling2D((2, 2)),\n",
    "\n",
    "                           layers.Conv2D(128, (3, 3), activation='relu'),\n",
    "                           layers.Conv2D(128, (3, 3), activation='relu'),\n",
    "                           layers.MaxPooling2D((2, 2)),         \n",
    "\n",
    "                           layers.Conv2D(256, (3, 3), activation='relu'),\n",
    "                           #layers.Conv2D(256, (3, 3), activation='relu'),\n",
    "                           #layers.Conv2D(256, (3, 3), activation='relu'),\n",
    "                           layers.Conv2D(256, (3, 3), activation='relu'),\n",
    "                           layers.MaxPooling2D((2, 2)),\n",
    "\n",
    "                           layers.Conv2D(512, (3, 3), activation='relu'),\n",
    "                           #layers.Conv2D(512, (3, 3), activation='relu'),\n",
    "                           #layers.Conv2D(521, (3, 3), activation='relu'),\n",
    "                           layers.Conv2D(521, (3, 3), activation='relu'),\n",
    "                           layers.MaxPooling2D((2, 2)),\n",
    "                           \n",
    "                           layers.Flatten(),\n",
    "                           layers.Dense(4096, activation='relu'),\n",
    "                           layers.Dropout(0.4),\n",
    "                           layers.Dense(4096, activation='relu'),\n",
    "                           layers.Dropout(0.4),\n",
    "                           layers.Dense(3, activation='softmax')\n",
    "])\n",
    "\n",
    "model.compile(optimizer='adam',\n",
    "              loss=tf.keras.losses.CategoricalCrossentropy(from_logits=True),\n",
    "              metrics=['accuracy'])"
   ]
  },
  {
   "cell_type": "code",
   "execution_count": 7,
   "metadata": {
    "colab": {
     "base_uri": "https://localhost:8080/",
     "height": 1000
    },
    "executionInfo": {
     "elapsed": 5594,
     "status": "ok",
     "timestamp": 1612696049597,
     "user": {
      "displayName": "Maniezzo Vittorio",
      "photoUrl": "https://lh3.googleusercontent.com/a-/AOh14Giqm5ggpMHZbFEsO6I8JLdOxxPOes47QwDRVNwn=s64",
      "userId": "10901058600466330130"
     },
     "user_tz": -60
    },
    "id": "yszgXIvA5CnU",
    "outputId": "3b340d68-7bf6-4e0b-f633-43ef379856e6"
   },
   "outputs": [
    {
     "name": "stdout",
     "output_type": "stream",
     "text": [
      "('Failed to import pydot. You must `pip install pydot` and install graphviz (https://graphviz.gitlab.io/download/), ', 'for `pydotprint` to work.')\n"
     ]
    }
   ],
   "source": [
    "from keras.utils import plot_model\n",
    "plot_model(model)"
   ]
  },
  {
   "cell_type": "code",
   "execution_count": 9,
   "metadata": {
    "colab": {
     "base_uri": "https://localhost:8080/"
    },
    "id": "3W3lhyX52Gj0",
    "outputId": "271584da-bd5e-4dea-a3c7-f14c8395eaf7"
   },
   "outputs": [
    {
     "name": "stdout",
     "output_type": "stream",
     "text": [
      "Epoch 1/30\n",
      "62/62 [==============================] - 1383s 22s/step - loss: 0.5996 - accuracy: 0.7516 - val_loss: 0.5360 - val_accuracy: 0.8056\n",
      "Epoch 2/30\n",
      "62/62 [==============================] - 1354s 22s/step - loss: 0.5573 - accuracy: 0.7784 - val_loss: 0.4814 - val_accuracy: 0.8293\n",
      "Epoch 3/30\n",
      "62/62 [==============================] - 1351s 22s/step - loss: 0.5210 - accuracy: 0.7886 - val_loss: 0.4203 - val_accuracy: 0.8472\n",
      "Epoch 4/30\n",
      "62/62 [==============================] - 1350s 22s/step - loss: 0.5167 - accuracy: 0.7941 - val_loss: 0.3867 - val_accuracy: 0.8698\n",
      "Epoch 5/30\n",
      "62/62 [==============================] - 1352s 22s/step - loss: 0.4910 - accuracy: 0.8002 - val_loss: 0.3573 - val_accuracy: 0.8721\n",
      "Epoch 6/30\n",
      "62/62 [==============================] - 1351s 22s/step - loss: 0.4709 - accuracy: 0.8041 - val_loss: 0.3844 - val_accuracy: 0.8689\n",
      "Epoch 7/30\n",
      "62/62 [==============================] - 1350s 22s/step - loss: 0.4632 - accuracy: 0.8100 - val_loss: 0.3957 - val_accuracy: 0.8507\n",
      "Epoch 8/30\n",
      "62/62 [==============================] - 1351s 22s/step - loss: 0.4616 - accuracy: 0.8081 - val_loss: 0.3519 - val_accuracy: 0.8782\n",
      "Epoch 9/30\n",
      "62/62 [==============================] - 1351s 22s/step - loss: 0.4384 - accuracy: 0.8186 - val_loss: 0.3142 - val_accuracy: 0.8970\n",
      "Epoch 10/30\n",
      "62/62 [==============================] - 1350s 22s/step - loss: 0.4420 - accuracy: 0.8163 - val_loss: 0.3542 - val_accuracy: 0.8709\n",
      "Epoch 11/30\n",
      "62/62 [==============================] - 1357s 22s/step - loss: 0.4338 - accuracy: 0.8214 - val_loss: 0.3447 - val_accuracy: 0.8773\n",
      "Epoch 12/30\n",
      "62/62 [==============================] - 1353s 22s/step - loss: 0.4195 - accuracy: 0.8237 - val_loss: 0.3587 - val_accuracy: 0.8669\n",
      "Epoch 13/30\n",
      "62/62 [==============================] - 1348s 22s/step - loss: 0.4146 - accuracy: 0.8292 - val_loss: 0.2956 - val_accuracy: 0.8976\n",
      "Epoch 14/30\n",
      "62/62 [==============================] - 11854s 194s/step - loss: 0.4033 - accuracy: 0.8322 - val_loss: 0.3401 - val_accuracy: 0.8860\n",
      "Epoch 15/30\n",
      "62/62 [==============================] - 1376s 22s/step - loss: 0.3931 - accuracy: 0.8352 - val_loss: 0.3426 - val_accuracy: 0.8767\n",
      "Epoch 16/30\n",
      "62/62 [==============================] - 1351s 22s/step - loss: 0.3882 - accuracy: 0.8351 - val_loss: 0.3082 - val_accuracy: 0.8854\n",
      "Epoch 17/30\n",
      "62/62 [==============================] - 1354s 22s/step - loss: 0.3869 - accuracy: 0.8376 - val_loss: 0.3431 - val_accuracy: 0.8724\n",
      "Epoch 18/30\n",
      "62/62 [==============================] - 1359s 22s/step - loss: 0.3788 - accuracy: 0.8381 - val_loss: 0.3643 - val_accuracy: 0.8660\n",
      "Epoch 19/30\n",
      "62/62 [==============================] - 1355s 22s/step - loss: 0.3718 - accuracy: 0.8418 - val_loss: 0.3510 - val_accuracy: 0.8692\n",
      "Epoch 20/30\n",
      "62/62 [==============================] - 1371s 22s/step - loss: 0.3521 - accuracy: 0.8514 - val_loss: 0.3327 - val_accuracy: 0.8733\n",
      "Epoch 21/30\n",
      "62/62 [==============================] - 1353s 22s/step - loss: 0.3337 - accuracy: 0.8583 - val_loss: 0.3880 - val_accuracy: 0.8626\n",
      "Epoch 22/30\n",
      "62/62 [==============================] - 1355s 22s/step - loss: 0.3607 - accuracy: 0.8430 - val_loss: 0.3422 - val_accuracy: 0.8750\n",
      "Epoch 23/30\n",
      "62/62 [==============================] - 1371s 22s/step - loss: 0.3289 - accuracy: 0.8600 - val_loss: 0.3195 - val_accuracy: 0.8845\n",
      "Epoch 24/30\n",
      "62/62 [==============================] - 1383s 22s/step - loss: 0.3336 - accuracy: 0.8560 - val_loss: 0.3254 - val_accuracy: 0.8817\n",
      "Epoch 25/30\n",
      "62/62 [==============================] - 1374s 22s/step - loss: 0.3014 - accuracy: 0.8663 - val_loss: 0.3683 - val_accuracy: 0.8594\n",
      "Epoch 26/30\n",
      "62/62 [==============================] - 1366s 22s/step - loss: 0.3039 - accuracy: 0.8661 - val_loss: 0.3779 - val_accuracy: 0.8663\n",
      "Epoch 27/30\n",
      "62/62 [==============================] - 1356s 22s/step - loss: 0.2896 - accuracy: 0.8746 - val_loss: 0.3287 - val_accuracy: 0.8808\n",
      "Epoch 28/30\n",
      "62/62 [==============================] - 1352s 22s/step - loss: 0.2671 - accuracy: 0.8819 - val_loss: 0.3509 - val_accuracy: 0.8759\n",
      "Epoch 29/30\n",
      "62/62 [==============================] - 1389s 22s/step - loss: 0.2782 - accuracy: 0.8743 - val_loss: 0.3281 - val_accuracy: 0.8767\n",
      "Epoch 30/30\n",
      "62/62 [==============================] - 1406s 23s/step - loss: 0.2558 - accuracy: 0.8870 - val_loss: 0.3659 - val_accuracy: 0.8701\n"
     ]
    }
   ],
   "source": [
    "history = model.fit(train_data, \n",
    "                    epochs=EPOCHS, \n",
    "                    class_weight=weight,\n",
    "                    steps_per_epoch=int(np.ceil(tot_train / BATCH_SIZE)), \n",
    "                    validation_data=validation_data, \n",
    "                    validation_steps=int(np.ceil(tot_val / float(BATCH_SIZE)))) #10 epochs instead of 20\n"
   ]
  },
  {
   "cell_type": "code",
   "execution_count": 10,
   "metadata": {
    "id": "o7Pur4KyhtLz"
   },
   "outputs": [
    {
     "data": {
      "text/plain": [
       "<matplotlib.legend.Legend at 0x1c80959d808>"
      ]
     },
     "execution_count": 10,
     "metadata": {},
     "output_type": "execute_result"
    },
    {
     "data": {
      "image/png": "[encoded data removed]",
      "text/plain": [
       "<Figure size 432x288 with 1 Axes>"
      ]
     },
     "metadata": {
      "needs_background": "light"
     },
     "output_type": "display_data"
    }
   ],
   "source": [
    "plt.plot(history.history['accuracy'])  \n",
    "plt.plot(history.history['loss'])  \n",
    "plt.plot(history.history['val_accuracy'])  \n",
    "plt.plot(history.history['val_loss']) \n",
    "plt.hlines(1, 0, EPOCHS)\n",
    "plt.axis([0,EPOCHS-1, 0, 3]) \n",
    "plt.title('model accuracy')  \n",
    "plt.ylabel('accuracy')  \n",
    "plt.xlabel('epoch')  \n",
    "plt.legend(['accuracy', 'loss','val_accuracy', 'val_loss'], loc='best') "
   ]
  },
  {
   "cell_type": "markdown",
   "metadata": {
    "id": "_AwqibyuhvrM"
   },
   "source": [
    "## Save Model\n"
   ]
  },
  {
   "cell_type": "code",
   "execution_count": null,
   "metadata": {
    "id": "CZSCHN1qhlBB"
   },
   "outputs": [],
   "source": [
    "import os\n",
    "\n",
    "save_path = \"../light/vgg19\"\n",
    "\n",
    "if not os.path.exists(save_path) :\n",
    "  os.makedirs(save_path)\n",
    "\n",
    "final_inception_model.save(save_path)"
   ]
  },
  {
   "cell_type": "markdown",
   "metadata": {
    "id": "dC7HKFuMif4q"
   },
   "source": [
    "# Orientation"
   ]
  },
  {
   "cell_type": "code",
   "execution_count": null,
   "metadata": {
    "id": "-Ui5Cxbjifop"
   },
   "outputs": [],
   "source": [
    "directory = \"../Rub7/orientation\""
   ]
  },
  {
   "cell_type": "code",
   "execution_count": null,
   "metadata": {
    "id": "bpXXyteEK_l3"
   },
   "outputs": [],
   "source": [
    "image_generator = image.ImageDataGenerator(rescale = 1. /255, validation_split = VALIDATION_SPLIT, preprocessing_function = None )\n",
    "train_data = image_generator.flow_from_directory(batch_size=BATCH_SIZE, \n",
    "                                                 directory = directory, \n",
    "                                                 subset = \"training\", \n",
    "                                                 shuffle = True, \n",
    "                                                 target_size = (128,128), \n",
    "                                                 class_mode = \"categorical\")\n",
    "validation_data = image_generator.flow_from_directory(batch_size=BATCH_SIZE,\n",
    "                                                      directory = directory,\n",
    "                                                      subset = \"validation\",\n",
    "                                                      shuffle = True,\n",
    "                                                      target_size = (128,128),\n",
    "                                                      class_mode = \"categorical\")\n",
    "print(train_data.classes)\n",
    "\n",
    "class_weights = class_weight.compute_class_weight(\n",
    "           'balanced',\n",
    "            np.unique(train_data.classes), \n",
    "            train_data.classes)\n",
    "weight = {i : class_weights[i] for i in range(3)}\n",
    "print(weight)"
   ]
  },
  {
   "cell_type": "code",
   "execution_count": null,
   "metadata": {
    "id": "3NBBszW2ij6K"
   },
   "outputs": [],
   "source": [
    "model = models.Sequential([\n",
    "                           layers.Conv2D(64, (3, 3), activation='relu', input_shape=(128, 128, 3)),\n",
    "                           layers.Conv2D(64, (3, 3), activation='relu'),\n",
    "                           layers.MaxPooling2D((2, 2)),\n",
    "\n",
    "                           layers.Conv2D(128, (3, 3), activation='relu'),\n",
    "                           layers.Conv2D(128, (3, 3), activation='relu'),\n",
    "                           layers.MaxPooling2D((2, 2)),         \n",
    "\n",
    "                           layers.Conv2D(256, (3, 3), activation='relu'),\n",
    "                          #  layers.Conv2D(256, (3, 3), activation='relu'),\n",
    "                          #  layers.Conv2D(256, (3, 3), activation='relu'),\n",
    "                           layers.Conv2D(256, (3, 3), activation='relu'),\n",
    "                           layers.MaxPooling2D((2, 2)),\n",
    "\n",
    "                           layers.Conv2D(512, (3, 3), activation='relu'),\n",
    "                          #  layers.Conv2D(512, (3, 3), activation='relu'),\n",
    "                          #  layers.Conv2D(521, (3, 3), activation='relu'),\n",
    "                           layers.Conv2D(521, (3, 3), activation='relu'),\n",
    "                           layers.MaxPooling2D((2, 2)),\n",
    "                           \n",
    "                           layers.Flatten(),\n",
    "                           layers.Dense(4096, activation='relu'),\n",
    "                           layers.Dropout(0.4),\n",
    "                           layers.Dense(4096, activation='relu'),\n",
    "                           layers.Dropout(0.4),\n",
    "                           layers.Dense(3, activation='softmax')\n",
    "])\n",
    "\n",
    "model.compile(optimizer='adam',\n",
    "              loss=tf.keras.losses.CategoricalCrossentropy(from_logits=True),\n",
    "              metrics=['accuracy'])"
   ]
  },
  {
   "cell_type": "code",
   "execution_count": null,
   "metadata": {
    "id": "9L-R4ubBiqdB"
   },
   "outputs": [],
   "source": [
    "history = model.fit(train_data,\n",
    "                    epochs=EPOCHS,\n",
    "                    class_weight=weight,\n",
    "                    steps_per_epoch=int(np.ceil(tot_train / BATCH_SIZE)), \n",
    "                    validation_data=validation_data,\n",
    "                    validation_steps=int(np.ceil(tot_val / float(BATCH_SIZE)))) #10 epochs instead of 20\n"
   ]
  },
  {
   "cell_type": "code",
   "execution_count": null,
   "metadata": {
    "id": "rKk0J0SCiwNU"
   },
   "outputs": [],
   "source": [
    "plt.plot(history.history['accuracy'])  \n",
    "plt.plot(history.history['loss'])  \n",
    "plt.plot(history.history['val_accuracy'])  \n",
    "plt.plot(history.history['val_loss']) \n",
    "plt.hlines(1, 0, EPOCHS)\n",
    "plt.axis([0,EPOCHS-1, 0, 3]) \n",
    "plt.title('model accuracy')  \n",
    "plt.ylabel('accuracy')  \n",
    "plt.xlabel('epoch')  \n",
    "plt.legend(['accuracy', 'loss','val_accuracy', 'val_loss'], loc='best')"
   ]
  },
  {
   "cell_type": "code",
   "execution_count": null,
   "metadata": {
    "id": "9o1D8MUXiyAn"
   },
   "outputs": [],
   "source": [
    "import os\n",
    "\n",
    "save_path = \"../orientation/vgg19\"\n",
    "\n",
    "if not os.path.exists(save_path) :\n",
    "  os.makedirs(save_path)\n",
    "\n",
    "final_inception_model.save(save_path)"
   ]
  }
 ],
 "metadata": {
  "colab": {
   "authorship_tag": "ABX9TyNu9E6EzSO1yJUHCniCba6r",
   "collapsed_sections": [],
   "mount_file_id": "17PBPhoDTEyIcxmz3iw18dWLjo-iyNuXR",
   "name": "VGG19_fromScratch.ipynb",
   "provenance": []
  },
  "kernelspec": {
   "display_name": "Python 3",
   "language": "python",
   "name": "python3"
  },
  "language_info": {
   "codemirror_mode": {
    "name": "ipython",
    "version": 3
   },
   "file_extension": ".py",
   "mimetype": "text/x-python",
   "name": "python",
   "nbconvert_exporter": "python",
   "pygments_lexer": "ipython3",
   "version": "3.7.9"
  }
 },
 "nbformat": 4,
 "nbformat_minor": 1
}
